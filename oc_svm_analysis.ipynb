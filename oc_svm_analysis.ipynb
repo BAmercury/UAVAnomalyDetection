{
 "nbformat": 4,
 "nbformat_minor": 2,
 "metadata": {
  "language_info": {
   "name": "python",
   "codemirror_mode": {
    "name": "ipython",
    "version": 3
   },
   "version": "3.7.6-final"
  },
  "orig_nbformat": 2,
  "file_extension": ".py",
  "mimetype": "text/x-python",
  "name": "python",
  "npconvert_exporter": "python",
  "pygments_lexer": "ipython3",
  "version": 3,
  "kernelspec": {
   "name": "python37664bit2186937eea2848028e2da9bf2b670c38",
   "display_name": "Python 3.7.6 64-bit"
  }
 },
 "cells": [
  {
   "cell_type": "code",
   "execution_count": 2,
   "metadata": {},
   "outputs": [],
   "source": [
    "\"\"\"\n",
    "Running OC-SVM for anomaly detection using various frameworks\n",
    "\n",
    "https://scikit-learn.org/stable/auto_examples/miscellaneous/plot_anomaly_comparison.html#sphx-glr-auto-examples-miscellaneous-plot-anomaly-comparison-py\n",
    "\n",
    "\n",
    "\n",
    "\"\"\"\n",
    "import numpy as np\n",
    "from matplotlib import pyplot as plt\n",
    "from sklearn import svm\n",
    "import pandas as pd"
   ]
  },
  {
   "cell_type": "code",
   "execution_count": 53,
   "metadata": {},
   "outputs": [
    {
     "name": "stdout",
     "output_type": "stream",
     "text": "(47,)\n"
    },
    {
     "data": {
      "text/html": "<div>\n<style scoped>\n    .dataframe tbody tr th:only-of-type {\n        vertical-align: middle;\n    }\n\n    .dataframe tbody tr th {\n        vertical-align: top;\n    }\n\n    .dataframe thead th {\n        text-align: right;\n    }\n</style>\n<table border=\"1\" class=\"dataframe\">\n  <thead>\n    <tr style=\"text-align: right;\">\n      <th></th>\n      <th>carbonZ_2018-07-18-12-10-11_no_ground_truth</th>\n    </tr>\n  </thead>\n  <tbody>\n    <tr>\n      <th>0</th>\n      <td>carbonZ_2018-07-18-15-53-31_1_engine_failure</td>\n    </tr>\n    <tr>\n      <th>1</th>\n      <td>carbonZ_2018-07-18-15-53-31_2_engine_failure</td>\n    </tr>\n    <tr>\n      <th>2</th>\n      <td>carbonZ_2018-07-18-16-22-01_engine_failure_wit...</td>\n    </tr>\n    <tr>\n      <th>3</th>\n      <td>carbonZ_2018-07-18-16-37-39_1_no_failure</td>\n    </tr>\n    <tr>\n      <th>4</th>\n      <td>carbonZ_2018-07-18-16-37-39_2_engine_failure_w...</td>\n    </tr>\n  </tbody>\n</table>\n</div>",
      "text/plain": "         carbonZ_2018-07-18-12-10-11_no_ground_truth\n0       carbonZ_2018-07-18-15-53-31_1_engine_failure\n1       carbonZ_2018-07-18-15-53-31_2_engine_failure\n2  carbonZ_2018-07-18-16-22-01_engine_failure_wit...\n3           carbonZ_2018-07-18-16-37-39_1_no_failure\n4  carbonZ_2018-07-18-16-37-39_2_engine_failure_w..."
     },
     "execution_count": 53,
     "metadata": {},
     "output_type": "execute_result"
    }
   ],
   "source": [
    "# Import X and Y data\n",
    "x_data = pd.read_csv(\"X_data.csv\")\n",
    "y_data = np.loadtxt(open(\"Y_data.csv\",\"rb\"), delimiter=\",\")\n",
    "y_labels = pd.read_csv(\"Y_labels.csv\")\n",
    "# Show first 5 rows of the data and print size\n",
    "\n",
    "print(y_data.shape)\n",
    "\n",
    "x_data.head()\n",
    "y_labels.head()"
   ]
  },
  {
   "cell_type": "code",
   "execution_count": 71,
   "metadata": {},
   "outputs": [
    {
     "name": "stdout",
     "output_type": "stream",
     "text": "2\n"
    }
   ],
   "source": [
    "# First we will run OC-SVM in a unsupervised environment (inliers and outliers together no labels)\n",
    "# Fit model\n",
    "outliers_fraction = 0.80\n",
    "svm_obj = svm.OneClassSVM(\n",
    "    kernel='rbf',\n",
    "    nu = outliers_fraction,\n",
    "    gamma = 0.1)\n",
    "\n",
    "# 1: inliers, -1: Outliers\n",
    "# 10 Samples are Non-failure\n",
    "# 37 are Failure\n",
    "x_np = x_data.to_numpy()\n",
    "print(x_np.ndim)\n",
    "y_pred = svm_obj.fit(x_np).predict(x_np)"
   ]
  },
  {
   "cell_type": "code",
   "execution_count": 65,
   "metadata": {},
   "outputs": [
    {
     "name": "stdout",
     "output_type": "stream",
     "text": "15\n"
    }
   ],
   "source": [
    "n_error_outliers = y_pred[y_pred == 1].size\n",
    "print(n_error_outliers)"
   ]
  },
  {
   "cell_type": "code",
   "execution_count": 15,
   "metadata": {},
   "outputs": [],
   "source": [
    "# Helper functions to get error types and performance statistics\n",
    "def get_accuracy(y_truth, y_est, sample_size):\n",
    "    \"\"\"\n",
    "        Function to compute accuracy on how well the classification algorithm works\n",
    "\n",
    "        Returns accuracy\n",
    "    \"\"\"\n",
    "    acc = 0\n",
    "    for i in range(len(y_truth)):\n",
    "        acc = acc + (y_truth[i] == y_est[i])\n",
    "    acc = (1/sample_size) * acc\n",
    "\n",
    "    return acc"
   ]
  },
  {
   "cell_type": "code",
   "execution_count": 66,
   "metadata": {},
   "outputs": [
    {
     "ename": "IndexError",
     "evalue": "index 46 is out of bounds for axis 0 with size 46",
     "output_type": "error",
     "traceback": [
      "\u001b[1;31m---------------------------------------------------------------------------\u001b[0m",
      "\u001b[1;31mIndexError\u001b[0m                                Traceback (most recent call last)",
      "\u001b[1;32m<ipython-input-66-24809235a400>\u001b[0m in \u001b[0;36m<module>\u001b[1;34m\u001b[0m\n\u001b[1;32m----> 1\u001b[1;33m \u001b[0macc\u001b[0m \u001b[1;33m=\u001b[0m \u001b[0mget_accuracy\u001b[0m\u001b[1;33m(\u001b[0m\u001b[0my_data\u001b[0m\u001b[1;33m,\u001b[0m \u001b[0my_pred\u001b[0m\u001b[1;33m,\u001b[0m \u001b[0my_data\u001b[0m\u001b[1;33m.\u001b[0m\u001b[0msize\u001b[0m\u001b[1;33m)\u001b[0m\u001b[1;33m\u001b[0m\u001b[1;33m\u001b[0m\u001b[0m\n\u001b[0m",
      "\u001b[1;32m<ipython-input-15-27437db156c8>\u001b[0m in \u001b[0;36mget_accuracy\u001b[1;34m(y_truth, y_est, sample_size)\u001b[0m\n\u001b[0;32m      8\u001b[0m     \u001b[0macc\u001b[0m \u001b[1;33m=\u001b[0m \u001b[1;36m0\u001b[0m\u001b[1;33m\u001b[0m\u001b[1;33m\u001b[0m\u001b[0m\n\u001b[0;32m      9\u001b[0m     \u001b[1;32mfor\u001b[0m \u001b[0mi\u001b[0m \u001b[1;32min\u001b[0m \u001b[0mrange\u001b[0m\u001b[1;33m(\u001b[0m\u001b[0mlen\u001b[0m\u001b[1;33m(\u001b[0m\u001b[0my_truth\u001b[0m\u001b[1;33m)\u001b[0m\u001b[1;33m)\u001b[0m\u001b[1;33m:\u001b[0m\u001b[1;33m\u001b[0m\u001b[1;33m\u001b[0m\u001b[0m\n\u001b[1;32m---> 10\u001b[1;33m         \u001b[0macc\u001b[0m \u001b[1;33m=\u001b[0m \u001b[0macc\u001b[0m \u001b[1;33m+\u001b[0m \u001b[1;33m(\u001b[0m\u001b[0my_truth\u001b[0m\u001b[1;33m[\u001b[0m\u001b[0mi\u001b[0m\u001b[1;33m]\u001b[0m \u001b[1;33m==\u001b[0m \u001b[0my_est\u001b[0m\u001b[1;33m[\u001b[0m\u001b[0mi\u001b[0m\u001b[1;33m]\u001b[0m\u001b[1;33m)\u001b[0m\u001b[1;33m\u001b[0m\u001b[1;33m\u001b[0m\u001b[0m\n\u001b[0m\u001b[0;32m     11\u001b[0m     \u001b[0macc\u001b[0m \u001b[1;33m=\u001b[0m \u001b[1;33m(\u001b[0m\u001b[1;36m1\u001b[0m\u001b[1;33m/\u001b[0m\u001b[0msample_size\u001b[0m\u001b[1;33m)\u001b[0m \u001b[1;33m*\u001b[0m \u001b[0macc\u001b[0m\u001b[1;33m\u001b[0m\u001b[1;33m\u001b[0m\u001b[0m\n\u001b[0;32m     12\u001b[0m \u001b[1;33m\u001b[0m\u001b[0m\n",
      "\u001b[1;31mIndexError\u001b[0m: index 46 is out of bounds for axis 0 with size 46"
     ]
    }
   ],
   "source": [
    "acc = get_accuracy(y_data, y_pred, y_data.size)"
   ]
  },
  {
   "cell_type": "code",
   "execution_count": 69,
   "metadata": {},
   "outputs": [
    {
     "data": {
      "text/plain": "46"
     },
     "execution_count": 69,
     "metadata": {},
     "output_type": "execute_result"
    }
   ],
   "source": [
    "y_pred.size"
   ]
  },
  {
   "cell_type": "code",
   "execution_count": 68,
   "metadata": {},
   "outputs": [
    {
     "data": {
      "text/plain": "1150"
     },
     "execution_count": 68,
     "metadata": {},
     "output_type": "execute_result"
    }
   ],
   "source": [
    "x_np.size"
   ]
  },
  {
   "cell_type": "code",
   "execution_count": null,
   "metadata": {},
   "outputs": [],
   "source": []
  }
 ]
}